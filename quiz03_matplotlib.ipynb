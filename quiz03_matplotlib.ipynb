{
  "nbformat": 4,
  "nbformat_minor": 0,
  "metadata": {
    "colab": {
      "name": "NumPy Quiz",
      "provenance": []
    },
    "kernelspec": {
      "name": "python3",
      "display_name": "Python 3"
    },
    "language_info": {
      "name": "python"
    }
  },
  "cells": [
    {
      "cell_type": "markdown",
      "source": [
        "1. What is Matplotlib primarily used for?\n",
        "\n",
        "A. Data storage\n",
        "\n",
        "B. Web development\n",
        "\n",
        "C. Data visualization\n",
        "\n",
        "D. Machine learning\n"
      ],
      "metadata": {
        "id": "question001"
      }
    },
    {
      "cell_type": "code",
      "source": [
        "Answer001 = \"\"  # @param {\"type\":\"string\"}"
      ],
      "metadata": {
        "cellView": "form",
        "id": "answer001"
      },
      "execution_count": null,
      "outputs": []
    },
    {
      "cell_type": "markdown",
      "source": [
        "2. Which function is used to create a simple line plot?\n",
        "\n",
        "A. plot()\n",
        "\n",
        "B. line()\n",
        "\n",
        "C. scatter()\n",
        "\n",
        "D. draw()\n"
      ],
      "metadata": {
        "id": "question002"
      }
    },
    {
      "cell_type": "code",
      "source": [
        "Answer002 = \"\"  # @param {\"type\":\"string\"}"
      ],
      "metadata": {
        "cellView": "form",
        "id": "answer002"
      },
      "execution_count": null,
      "outputs": []
    },
    {
      "cell_type": "markdown",
      "source": [
        "3. What is the default Matplotlib module for plotting?\n",
        "\n",
        "A. matplotlib.pyplot\n",
        "\n",
        "B. matplotlib.pylab\n",
        "\n",
        "C. matplotlib.plt\n",
        "\n",
        "D. matplotlib.visual\n"
      ],
      "metadata": {
        "id": "question003"
      }
    },
    {
      "cell_type": "code",
      "source": [
        "Answer003 = \"\"  # @param {\"type\":\"string\"}"
      ],
      "metadata": {
        "cellView": "form",
        "id": "answer003"
      },
      "execution_count": null,
      "outputs": []
    },
    {
      "cell_type": "markdown",
      "source": [
        "4. How do you display a Matplotlib plot?\n",
        "\n",
        "A. plt.display()\n",
        "\n",
        "B. plt.show()\n",
        "\n",
        "C. plt.plot()\n",
        "\n",
        "D. plt.render()\n"
      ],
      "metadata": {
        "id": "question004"
      }
    },
    {
      "cell_type": "code",
      "source": [
        "Answer004 = \"\"  # @param {\"type\":\"string\"}"
      ],
      "metadata": {
        "cellView": "form",
        "id": "answer004"
      },
      "execution_count": null,
      "outputs": []
    },
    {
      "cell_type": "markdown",
      "source": [
        "5. What does the xlabel() function do in Matplotlib?\n",
        "\n",
        "A. Adds a label to the x-axis\n",
        "\n",
        "B. Changes the x-axis limits\n",
        "\n",
        "C. Adds a title to the plot\n",
        "\n",
        "D. Adds labels to data points\n"
      ],
      "metadata": {
        "id": "question005"
      }
    },
    {
      "cell_type": "code",
      "source": [
        "Answer005 = \"\"  # @param {\"type\":\"string\"}"
      ],
      "metadata": {
        "cellView": "form",
        "id": "answer005"
      },
      "execution_count": null,
      "outputs": []
    },
    {
      "cell_type": "markdown",
      "source": [
        "6. Which function is used to create a bar chart?\n",
        "\n",
        "A. plt.bar()\n",
        "\n",
        "B. plt.hist()\n",
        "\n",
        "C. plt.scatter()\n",
        "\n",
        "D. plt.column()\n"
      ],
      "metadata": {
        "id": "question006"
      }
    },
    {
      "cell_type": "code",
      "source": [
        "Answer006 = \"\"  # @param {\"type\":\"string\"}"
      ],
      "metadata": {
        "cellView": "form",
        "id": "answer006"
      },
      "execution_count": null,
      "outputs": []
    },
    {
      "cell_type": "markdown",
      "source": [
        "7. How do you set the title of a plot in Matplotlib?\n",
        "\n",
        "A. plt.set_title()\n",
        "\n",
        "B. plt.plot_title()\n",
        "\n",
        "C. plt.title()\n",
        "\n",
        "D. plt.label()\n"
      ],
      "metadata": {
        "id": "question007"
      }
    },
    {
      "cell_type": "code",
      "source": [
        "Answer007 = \"\"  # @param {\"type\":\"string\"}"
      ],
      "metadata": {
        "cellView": "form",
        "id": "answer007"
      },
      "execution_count": null,
      "outputs": []
    },
    {
      "cell_type": "markdown",
      "source": [
        "8. What is the purpose of plt.legend()?\n",
        "\n",
        "A. To add labels to the x-axis\n",
        "\n",
        "B. To create a key for plot markers or lines\n",
        "\n",
        "C. To set the title of the plot\n",
        "\n",
        "D. To display axis labels\n"
      ],
      "metadata": {
        "id": "question008"
      }
    },
    {
      "cell_type": "code",
      "source": [
        "Answer008 = \"\"  # @param {\"type\":\"string\"}"
      ],
      "metadata": {
        "cellView": "form",
        "id": "answer008"
      },
      "execution_count": null,
      "outputs": []
    },
    {
      "cell_type": "markdown",
      "source": [
        "9. Which argument is used to change the color of a line in plt.plot()?\n",
        "\n",
        "A. linecolor\n",
        "\n",
        "B. c\n",
        "\n",
        "C. color\n",
        "\n",
        "D. line_style\n"
      ],
      "metadata": {
        "id": "question009"
      }
    },
    {
      "cell_type": "code",
      "source": [
        "Answer009 = \"\"  # @param {\"type\":\"string\"}"
      ],
      "metadata": {
        "cellView": "form",
        "id": "answer009"
      },
      "execution_count": null,
      "outputs": []
    },
    {
      "cell_type": "markdown",
      "source": [
        "10. How do you save a plot as an image file?\n",
        "\n",
        "A. plt.save()\n",
        "\n",
        "B. plt.savefig()\n",
        "\n",
        "C. plt.save_plot()\n",
        "\n",
        "D. plt.store()\n"
      ],
      "metadata": {
        "id": "question010"
      }
    },
    {
      "cell_type": "code",
      "source": [
        "Answer010 = \"\"  # @param {\"type\":\"string\"}"
      ],
      "metadata": {
        "cellView": "form",
        "id": "answer010"
      },
      "execution_count": null,
      "outputs": []
    },
    {
      "cell_type": "markdown",
      "source": [
        "11. Which function creates a scatter plot?\n",
        "\n",
        "A. plt.scatter()\n",
        "\n",
        "B. plt.point()\n",
        "\n",
        "C. plt.scatterplot()\n",
        "\n",
        "D. plt.dotplot()\n"
      ],
      "metadata": {
        "id": "question011"
      }
    },
    {
      "cell_type": "code",
      "source": [
        "Answer011 = \"\"  # @param {\"type\":\"string\"}"
      ],
      "metadata": {
        "cellView": "form",
        "id": "answer011"
      },
      "execution_count": null,
      "outputs": []
    },
    {
      "cell_type": "markdown",
      "source": [
        "12. What does the plt.grid() function do?\n",
        "\n",
        "A. Removes the axes from the plot\n",
        "\n",
        "B. Creates a grid layout for multiple subplots\n",
        "\n",
        "C. Adds a grid to the background of the plot\n",
        "\n",
        "D. Divides the plot into cells\n"
      ],
      "metadata": {
        "id": "question012"
      }
    },
    {
      "cell_type": "code",
      "source": [
        "Answer012 = \"\"  # @param {\"type\":\"string\"}"
      ],
      "metadata": {
        "cellView": "form",
        "id": "answer012"
      },
      "execution_count": null,
      "outputs": []
    },
    {
      "cell_type": "markdown",
      "source": [
        "13. Which function is used to create a histogram?\n",
        "\n",
        "A. plt.bar()\n",
        "\n",
        "B. plt.hist()\n",
        "\n",
        "C. plt.scatter()\n",
        "\n",
        "D. plt.column()\n"
      ],
      "metadata": {
        "id": "question013"
      }
    },
    {
      "cell_type": "code",
      "source": [
        "Answer013 = \"\"  # @param {\"type\":\"string\"}"
      ],
      "metadata": {
        "cellView": "form",
        "id": "answer013"
      },
      "execution_count": null,
      "outputs": []
    },
    {
      "cell_type": "markdown",
      "source": [
        "14. What does the subplot() function do?\n",
        "\n",
        "A. Creates multiple plots in a single figure\n",
        "\n",
        "B. Creates a bar chart\n",
        "\n",
        "C. Adds a title to a subplot\n",
        "\n",
        "D. Changes the size of the plot\n"
      ],
      "metadata": {
        "id": "question014"
      }
    },
    {
      "cell_type": "code",
      "source": [
        "Answer014 = \"\"  # @param {\"type\":\"string\"}"
      ],
      "metadata": {
        "cellView": "form",
        "id": "answer014"
      },
      "execution_count": null,
      "outputs": []
    },
    {
      "cell_type": "markdown",
      "source": [
        "15. Which parameter changes the line style in plt.plot()?\n",
        "\n",
        "A. line\n",
        "\n",
        "B. style\n",
        "\n",
        "C. linestyle\n",
        "\n",
        "D. type\n"
      ],
      "metadata": {
        "id": "question015"
      }
    },
    {
      "cell_type": "code",
      "source": [
        "Answer015 = \"\"  # @param {\"type\":\"string\"}"
      ],
      "metadata": {
        "cellView": "form",
        "id": "answer015"
      },
      "execution_count": null,
      "outputs": []
    },
    {
      "cell_type": "markdown",
      "source": [
        "16. What does the alpha parameter do in Matplotlib?\n",
        "\n",
        "A. Changes the font size\n",
        "\n",
        "B. Sets the line thickness\n",
        "\n",
        "C. Adjusts the transparency of a plot element\n",
        "\n",
        "D. Rotates the labels\n"
      ],
      "metadata": {
        "id": "question016"
      }
    },
    {
      "cell_type": "code",
      "source": [
        "Answer016 = \"\"  # @param {\"type\":\"string\"}"
      ],
      "metadata": {
        "cellView": "form",
        "id": "answer016"
      },
      "execution_count": null,
      "outputs": []
    },
    {
      "cell_type": "markdown",
      "source": [
        "17. Which function is used to create a pie chart?\n",
        "\n",
        "A. plt.circle()\n",
        "\n",
        "B. plt.plot()\n",
        "\n",
        "C. plt.pie()\n",
        "\n",
        "D. plt.wedge()\n"
      ],
      "metadata": {
        "id": "question017"
      }
    },
    {
      "cell_type": "code",
      "source": [
        "Answer017 = \"\"  # @param {\"type\":\"string\"}"
      ],
      "metadata": {
        "cellView": "form",
        "id": "answer017"
      },
      "execution_count": null,
      "outputs": []
    },
    {
      "cell_type": "markdown",
      "source": [
        "18. How can you adjust the figure size in Matplotlib?\n",
        "\n",
        "A. plt.size()\n",
        "\n",
        "B. plt.figure(figsize=(width, height))\n",
        "\n",
        "C. plt.dimension()\n",
        "\n",
        "D. plt.set_size()\n"
      ],
      "metadata": {
        "id": "question018"
      }
    },
    {
      "cell_type": "code",
      "source": [
        "Answer018 = \"\"  # @param {\"type\":\"string\"}"
      ],
      "metadata": {
        "cellView": "form",
        "id": "answer018"
      },
      "execution_count": null,
      "outputs": []
    },
    {
      "cell_type": "markdown",
      "source": [
        "19. What does plt.tight_layout() do?\n",
        "\n",
        "A. Removes whitespace between subplots\n",
        "\n",
        "B. Adds gridlines to the plot\n",
        "\n",
        "C. Resizes the plot window\n",
        "\n",
        "D. Adjusts subplot parameters for better layout\n"
      ],
      "metadata": {
        "id": "question019"
      }
    },
    {
      "cell_type": "code",
      "source": [
        "Answer019 = \"\"  # @param {\"type\":\"string\"}"
      ],
      "metadata": {
        "cellView": "form",
        "id": "answer019"
      },
      "execution_count": null,
      "outputs": []
    },
    {
      "cell_type": "markdown",
      "source": [
        "20. What does plt.annotate() do?\n",
        "\n",
        "A. Adds arrows to the plot\n",
        "\n",
        "B. Adds text annotations to specific points on the plot\n",
        "\n",
        "C. Adds labels to the axes\n",
        "\n",
        "D. Changes the color of markers\n"
      ],
      "metadata": {
        "id": "question020"
      }
    },
    {
      "cell_type": "code",
      "source": [
        "Answer020 = \"\"  # @param {\"type\":\"string\"}"
      ],
      "metadata": {
        "cellView": "form",
        "id": "answer020"
      },
      "execution_count": null,
      "outputs": []
    },
    {
      "cell_type": "markdown",
      "source": [
        "Export the results to csv file for grading."
      ],
      "metadata": {
        "id": "A5ILt14_DGoq"
      }
    },
    {
      "cell_type": "code",
      "source": [
        "# @title\n",
        "import pandas as pd\n",
        "\n",
        "# Define the range of answers to be processed\n",
        "n = 20  # Replace with the desired number of Answer variables\n",
        "\n",
        "# Initialize variables dynamically\n",
        "data = {'AnswerID': [], 'Answer': []}\n",
        "\n",
        "for i in range(1, n + 1):\n",
        "    var_name = f\"Answer{i:03}\"  # Generate variable names like Answer001, Answer002, etc.\n",
        "    # Check if the variable exists in globals, else assign a default value\n",
        "    if var_name not in globals():\n",
        "        globals()[var_name] = \"N\"  # Default value if variable doesn't exist\n",
        "    # Add the variable to the data dictionary\n",
        "    data['AnswerID'].append(var_name)\n",
        "    data['Answer'].append(globals()[var_name])\n",
        "\n",
        "# Create a DataFrame\n",
        "df = pd.DataFrame(data)\n",
        "\n",
        "# Save the DataFrame as a CSV file\n",
        "file_path = 'answers.csv'\n",
        "df.to_csv(file_path, index=False)\n",
        "\n",
        "# Provide a download link for the CSV file\n",
        "from google.colab import files\n",
        "files.download(file_path)"
      ],
      "metadata": {
        "id": "MANS4DrjLCDR",
        "cellView": "form"
      },
      "execution_count": null,
      "outputs": []
    }
  ]
}