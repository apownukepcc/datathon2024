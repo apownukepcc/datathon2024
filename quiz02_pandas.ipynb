{
  "nbformat": 4,
  "nbformat_minor": 0,
  "metadata": {
    "colab": {
      "name": "NumPy Quiz",
      "provenance": []
    },
    "kernelspec": {
      "name": "python3",
      "display_name": "Python 3"
    },
    "language_info": {
      "name": "python"
    }
  },
  "cells": [
    {
      "cell_type": "markdown",
      "source": [
        "1. What does the `pd.read_csv()` function do?\n",
        "\n",
        "A. Reads a CSV file into a pandas DataFrame.\n",
        "\n",
        "B. Saves a DataFrame to a CSV file.\n",
        "\n",
        "C. Reads an Excel file into a DataFrame.\n",
        "\n",
        "D. Converts a CSV string into a Series.\n"
      ],
      "metadata": {
        "id": "question001"
      }
    },
    {
      "cell_type": "code",
      "source": [
        "Answer001 = \"\"  # @param {\"type\":\"string\"}"
      ],
      "metadata": {
        "cellView": "form",
        "id": "answer001"
      },
      "execution_count": null,
      "outputs": []
    },
    {
      "cell_type": "markdown",
      "source": [
        "2. What is the main data structure in pandas for tabular data?\n",
        "\n",
        "A. List\n",
        "\n",
        "B. DataFrame\n",
        "\n",
        "C. Series\n",
        "\n",
        "D. Dictionary\n"
      ],
      "metadata": {
        "id": "question002"
      }
    },
    {
      "cell_type": "code",
      "source": [
        "Answer002 = \"\"  # @param {\"type\":\"string\"}"
      ],
      "metadata": {
        "cellView": "form",
        "id": "answer002"
      },
      "execution_count": null,
      "outputs": []
    },
    {
      "cell_type": "markdown",
      "source": [
        "3. What does `df.head(3)` do when `df` is a pandas DataFrame?\n",
        "\n",
        "A. Displays the last 3 rows of the DataFrame.\n",
        "\n",
        "B. Displays the first 3 rows of the DataFrame.\n",
        "\n",
        "C. Deletes the first 3 rows of the DataFrame.\n",
        "\n",
        "D. Adds 3 rows to the DataFrame.\n"
      ],
      "metadata": {
        "id": "question003"
      }
    },
    {
      "cell_type": "code",
      "source": [
        "Answer003 = \"\"  # @param {\"type\":\"string\"}"
      ],
      "metadata": {
        "cellView": "form",
        "id": "answer003"
      },
      "execution_count": null,
      "outputs": []
    },
    {
      "cell_type": "markdown",
      "source": [
        "4. How can you check for missing values in a DataFrame `df`?\n",
        "\n",
        "A. `df.isnull()`\n",
        "\n",
        "B. `df.checkna()`\n",
        "\n",
        "C. `df.missing()`\n",
        "\n",
        "D. `df.isnan()`\n"
      ],
      "metadata": {
        "id": "question004"
      }
    },
    {
      "cell_type": "code",
      "source": [
        "Answer004 = \"\"  # @param {\"type\":\"string\"}"
      ],
      "metadata": {
        "cellView": "form",
        "id": "answer004"
      },
      "execution_count": null,
      "outputs": []
    },
    {
      "cell_type": "markdown",
      "source": [
        "5. What function can you use to calculate the mean of a column in a DataFrame?\n",
        "\n",
        "A. `df.column.mean()`\n",
        "\n",
        "B. `df.mean(column)`\n",
        "\n",
        "C. `df[column].mean()`\n",
        "\n",
        "D. `mean(df[column])`\n"
      ],
      "metadata": {
        "id": "question005"
      }
    },
    {
      "cell_type": "code",
      "source": [
        "Answer005 = \"\"  # @param {\"type\":\"string\"}"
      ],
      "metadata": {
        "cellView": "form",
        "id": "answer005"
      },
      "execution_count": null,
      "outputs": []
    },
    {
      "cell_type": "markdown",
      "source": [
        "6. How do you drop rows with missing values in a DataFrame `df`?\n",
        "\n",
        "A. `df.remove_na()`\n",
        "\n",
        "B. `df.dropna()`\n",
        "\n",
        "C. `df.na_drop()`\n",
        "\n",
        "D. `df.clean_na()`\n"
      ],
      "metadata": {
        "id": "question006"
      }
    },
    {
      "cell_type": "code",
      "source": [
        "Answer006 = \"\"  # @param {\"type\":\"string\"}"
      ],
      "metadata": {
        "cellView": "form",
        "id": "answer006"
      },
      "execution_count": null,
      "outputs": []
    },
    {
      "cell_type": "markdown",
      "source": [
        "7. What does `df.loc[0]` return?\n",
        "\n",
        "A. The first column of the DataFrame.\n",
        "\n",
        "B. The first row of the DataFrame by label.\n",
        "\n",
        "C. The first row of the DataFrame by index.\n",
        "\n",
        "D. A slice of the DataFrame.\n"
      ],
      "metadata": {
        "id": "question007"
      }
    },
    {
      "cell_type": "code",
      "source": [
        "Answer007 = \"\"  # @param {\"type\":\"string\"}"
      ],
      "metadata": {
        "cellView": "form",
        "id": "answer007"
      },
      "execution_count": null,
      "outputs": []
    },
    {
      "cell_type": "markdown",
      "source": [
        "8. What is the difference between `.loc` and `.iloc` in pandas?\n",
        "\n",
        "A. `.loc` selects rows by integer position; `.iloc` selects rows by label.\n",
        "\n",
        "B. `.loc` selects rows by label; `.iloc` selects rows by integer position.\n",
        "\n",
        "C. `.loc` is faster than `.iloc`.\n",
        "\n",
        "D. There is no difference.\n"
      ],
      "metadata": {
        "id": "question008"
      }
    },
    {
      "cell_type": "code",
      "source": [
        "Answer008 = \"\"  # @param {\"type\":\"string\"}"
      ],
      "metadata": {
        "cellView": "form",
        "id": "answer008"
      },
      "execution_count": null,
      "outputs": []
    },
    {
      "cell_type": "markdown",
      "source": [
        "9. How do you rename columns in a DataFrame?\n",
        "\n",
        "A. `df.columns.rename()`\n",
        "\n",
        "B. `df.rename(columns={})`\n",
        "\n",
        "C. `df.rename_columns()`\n",
        "\n",
        "D. `df.rename_labels()`\n"
      ],
      "metadata": {
        "id": "question009"
      }
    },
    {
      "cell_type": "code",
      "source": [
        "Answer009 = \"\"  # @param {\"type\":\"string\"}"
      ],
      "metadata": {
        "cellView": "form",
        "id": "answer009"
      },
      "execution_count": null,
      "outputs": []
    },
    {
      "cell_type": "markdown",
      "source": [
        "10. Which function is used to concatenate two DataFrames vertically?\n",
        "\n",
        "A. `pd.concat([df1, df2])`\n",
        "\n",
        "B. `pd.merge([df1, df2])`\n",
        "\n",
        "C. `pd.append([df1, df2])`\n",
        "\n",
        "D. `pd.join([df1, df2])`\n"
      ],
      "metadata": {
        "id": "question010"
      }
    },
    {
      "cell_type": "code",
      "source": [
        "Answer010 = \"\"  # @param {\"type\":\"string\"}"
      ],
      "metadata": {
        "cellView": "form",
        "id": "answer010"
      },
      "execution_count": null,
      "outputs": []
    },
    {
      "cell_type": "markdown",
      "source": [
        "11. How do you reset the index of a DataFrame?\n",
        "\n",
        "A. `df.index_reset()`\n",
        "\n",
        "B. `df.reset_index()`\n",
        "\n",
        "C. `df.index.reset()`\n",
        "\n",
        "D. `reset.index(df)`\n"
      ],
      "metadata": {
        "id": "question011"
      }
    },
    {
      "cell_type": "code",
      "source": [
        "Answer011 = \"\"  # @param {\"type\":\"string\"}"
      ],
      "metadata": {
        "cellView": "form",
        "id": "answer011"
      },
      "execution_count": null,
      "outputs": []
    },
    {
      "cell_type": "markdown",
      "source": [
        "12. What does `df.describe()` do?\n",
        "\n",
        "A. Returns the first few rows of the DataFrame.\n",
        "\n",
        "B. Displays summary statistics for numerical columns in the DataFrame.\n",
        "\n",
        "C. Displays summary statistics for all columns in the DataFrame.\n",
        "\n",
        "D. Renames the columns of the DataFrame.\n"
      ],
      "metadata": {
        "id": "question012"
      }
    },
    {
      "cell_type": "code",
      "source": [
        "Answer012 = \"\"  # @param {\"type\":\"string\"}"
      ],
      "metadata": {
        "cellView": "form",
        "id": "answer012"
      },
      "execution_count": null,
      "outputs": []
    },
    {
      "cell_type": "markdown",
      "source": [
        "13. How can you filter rows in a DataFrame where the column `A` is greater than 10?\n",
        "\n",
        "A. `df.filter(A > 10)`\n",
        "\n",
        "B. `df.query(A > 10)`\n",
        "\n",
        "C. `df[df['A'] > 10]`\n",
        "\n",
        "D. `df.select(A > 10)`\n"
      ],
      "metadata": {
        "id": "question013"
      }
    },
    {
      "cell_type": "code",
      "source": [
        "Answer013 = \"\"  # @param {\"type\":\"string\"}"
      ],
      "metadata": {
        "cellView": "form",
        "id": "answer013"
      },
      "execution_count": null,
      "outputs": []
    },
    {
      "cell_type": "markdown",
      "source": [
        "14. What does the `pd.merge()` function do?\n",
        "\n",
        "A. Merges two Series into one.\n",
        "\n",
        "B. Combines two DataFrames using a common column.\n",
        "\n",
        "C. Combines two DataFrames horizontally.\n",
        "\n",
        "D. Sorts a DataFrame by a column.\n"
      ],
      "metadata": {
        "id": "question014"
      }
    },
    {
      "cell_type": "code",
      "source": [
        "Answer014 = \"\"  # @param {\"type\":\"string\"}"
      ],
      "metadata": {
        "cellView": "form",
        "id": "answer014"
      },
      "execution_count": null,
      "outputs": []
    },
    {
      "cell_type": "markdown",
      "source": [
        "15. Which method is used to group data by a column in a DataFrame?\n",
        "\n",
        "A. `df.group_by()`\n",
        "\n",
        "B. `df.groupby()`\n",
        "\n",
        "C. `df.aggregate()`\n",
        "\n",
        "D. `df.group()`\n"
      ],
      "metadata": {
        "id": "question015"
      }
    },
    {
      "cell_type": "code",
      "source": [
        "Answer015 = \"\"  # @param {\"type\":\"string\"}"
      ],
      "metadata": {
        "cellView": "form",
        "id": "answer015"
      },
      "execution_count": null,
      "outputs": []
    },
    {
      "cell_type": "markdown",
      "source": [
        "16. How do you fill missing values in a DataFrame?\n",
        "\n",
        "A. `df.fill()`\n",
        "\n",
        "B. `df.replace_na()`\n",
        "\n",
        "C. `df.fillna()`\n",
        "\n",
        "D. `df.fill_missing()`\n"
      ],
      "metadata": {
        "id": "question016"
      }
    },
    {
      "cell_type": "code",
      "source": [
        "Answer016 = \"\"  # @param {\"type\":\"string\"}"
      ],
      "metadata": {
        "cellView": "form",
        "id": "answer016"
      },
      "execution_count": null,
      "outputs": []
    },
    {
      "cell_type": "markdown",
      "source": [
        "17. How do you select a single column from a DataFrame?\n",
        "\n",
        "A. `df.column['name']`\n",
        "\n",
        "B. `df.select('column_name')`\n",
        "\n",
        "C. `df['column_name']`\n",
        "\n",
        "D. `df.column_name()`\n"
      ],
      "metadata": {
        "id": "question017"
      }
    },
    {
      "cell_type": "code",
      "source": [
        "Answer017 = \"\"  # @param {\"type\":\"string\"}"
      ],
      "metadata": {
        "cellView": "form",
        "id": "answer017"
      },
      "execution_count": null,
      "outputs": []
    },
    {
      "cell_type": "markdown",
      "source": [
        "18. How can you create a DataFrame from a dictionary?\n",
        "\n",
        "A. `pd.DataFrame.from_dict(dictionary)`\n",
        "\n",
        "B. `pd.dict_to_df(dictionary)`\n",
        "\n",
        "C. `pd.DataFrame(dictionary)`\n",
        "\n",
        "D. `DataFrame(dictionary)`\n"
      ],
      "metadata": {
        "id": "question018"
      }
    },
    {
      "cell_type": "code",
      "source": [
        "Answer018 = \"\"  # @param {\"type\":\"string\"}"
      ],
      "metadata": {
        "cellView": "form",
        "id": "answer018"
      },
      "execution_count": null,
      "outputs": []
    },
    {
      "cell_type": "markdown",
      "source": [
        "19. What does `df.sort_values(by='column_name')` do?\n",
        "\n",
        "A. Sorts the DataFrame rows by index.\n",
        "\n",
        "B. Sorts the DataFrame rows by the values in the column `column_name`.\n",
        "\n",
        "C. Sorts the DataFrame columns alphabetically.\n",
        "\n",
        "D. Renames the column to 'column_name'.\n"
      ],
      "metadata": {
        "id": "question019"
      }
    },
    {
      "cell_type": "code",
      "source": [
        "Answer019 = \"\"  # @param {\"type\":\"string\"}"
      ],
      "metadata": {
        "cellView": "form",
        "id": "answer019"
      },
      "execution_count": null,
      "outputs": []
    },
    {
      "cell_type": "markdown",
      "source": [
        "20. What does `df.pivot_table()` do?\n",
        "\n",
        "A. Creates a new DataFrame based on specific aggregation functions.\n",
        "\n",
        "B. Filters the rows of a DataFrame.\n",
        "\n",
        "C. Merges two DataFrames based on a key.\n",
        "\n",
        "D. Reshapes a DataFrame without performing aggregations.\n"
      ],
      "metadata": {
        "id": "question020"
      }
    },
    {
      "cell_type": "code",
      "source": [
        "Answer020 = \"\"  # @param {\"type\":\"string\"}"
      ],
      "metadata": {
        "cellView": "form",
        "id": "answer020"
      },
      "execution_count": null,
      "outputs": []
    },
    {
      "cell_type": "markdown",
      "source": [
        "Export the results to csv file for grading."
      ],
      "metadata": {
        "id": "A5ILt14_DGoq"
      }
    },
    {
      "cell_type": "code",
      "source": [
        "# @title\n",
        "import pandas as pd\n",
        "\n",
        "# Define the range of answers to be processed\n",
        "n = 20  # Replace with the desired number of Answer variables\n",
        "\n",
        "# Initialize variables dynamically\n",
        "data = {'AnswerID': [], 'Answer': []}\n",
        "\n",
        "for i in range(1, n + 1):\n",
        "    var_name = f\"Answer{i:03}\"  # Generate variable names like Answer001, Answer002, etc.\n",
        "    # Check if the variable exists in globals, else assign a default value\n",
        "    if var_name not in globals():\n",
        "        globals()[var_name] = \"N\"  # Default value if variable doesn't exist\n",
        "    # Add the variable to the data dictionary\n",
        "    data['AnswerID'].append(var_name)\n",
        "    data['Answer'].append(globals()[var_name])\n",
        "\n",
        "# Create a DataFrame\n",
        "df = pd.DataFrame(data)\n",
        "\n",
        "# Save the DataFrame as a CSV file\n",
        "file_path = 'answers.csv'\n",
        "df.to_csv(file_path, index=False)\n",
        "\n",
        "# Provide a download link for the CSV file\n",
        "from google.colab import files\n",
        "files.download(file_path)"
      ],
      "metadata": {
        "id": "MANS4DrjLCDR",
        "cellView": "form"
      },
      "execution_count": null,
      "outputs": []
    }
  ]
}