{
  "nbformat": 4,
  "nbformat_minor": 0,
  "metadata": {
    "colab": {
      "name": "NumPy Quiz",
      "provenance": []
    },
    "kernelspec": {
      "name": "python3",
      "display_name": "Python 3"
    },
    "language_info": {
      "name": "python"
    }
  },
  "cells": [
    {
      "cell_type": "markdown",
      "source": [
        "1. How do you import the NumPy library in Python?\n",
        "\n",
        "A. import numpy\n",
        "\n",
        "B. import NumPy as np\n",
        "\n",
        "C. import numpy as np\n",
        "\n",
        "D. include numpy\n"
      ],
      "metadata": {
        "id": "question001"
      }
    },
    {
      "cell_type": "code",
      "source": [
        "Answer001 = \"\"  # @param {\"type\":\"string\"}"
      ],
      "metadata": {
        "cellView": "form",
        "id": "answer001"
      },
      "execution_count": null,
      "outputs": []
    },
    {
      "cell_type": "markdown",
      "source": [
        "2. What does the np.zeros((3, 4)) function do?\n",
        "\n",
        "A. Creates an array of shape (3, 4) filled with zeros.\n",
        "\n",
        "B. Creates a list of zeros with 3 rows and 4 columns.\n",
        "\n",
        "C. Initializes a 3D matrix with zeroes.\n",
        "\n",
        "D. Creates a random array with zeros in its diagonal.\n"
      ],
      "metadata": {
        "id": "question002"
      }
    },
    {
      "cell_type": "code",
      "source": [
        "Answer002 = \"\"  # @param {\"type\":\"string\"}"
      ],
      "metadata": {
        "cellView": "form",
        "id": "answer002"
      },
      "execution_count": null,
      "outputs": []
    },
    {
      "cell_type": "markdown",
      "source": [
        "3. How can you create an array with evenly spaced values from 1 to 10 with a step size of 2?\n",
        "\n",
        "A. np.linspace(1, 10, 2)\n",
        "\n",
        "B. np.arange(1, 11, 2)\n",
        "\n",
        "C. np.array([1, 2, 3, ..., 10])\n",
        "\n",
        "D. np.range(1, 10, 2)\n"
      ],
      "metadata": {
        "id": "question003"
      }
    },
    {
      "cell_type": "code",
      "source": [
        "Answer003 = \"\"  # @param {\"type\":\"string\"}"
      ],
      "metadata": {
        "cellView": "form",
        "id": "answer003"
      },
      "execution_count": null,
      "outputs": []
    },
    {
      "cell_type": "markdown",
      "source": [
        "4. What attribute of a NumPy array tells you its shape?\n",
        "\n",
        "A. size\n",
        "\n",
        "B. dimension\n",
        "\n",
        "C. shape\n",
        "\n",
        "D. length\n"
      ],
      "metadata": {
        "id": "question004"
      }
    },
    {
      "cell_type": "code",
      "source": [
        "Answer004 = \"\"  # @param {\"type\":\"string\"}"
      ],
      "metadata": {
        "cellView": "form",
        "id": "answer004"
      },
      "execution_count": null,
      "outputs": []
    },
    {
      "cell_type": "markdown",
      "source": [
        "5. How can you add an element to a NumPy array?\n",
        "\n",
        "A. np.append(array, element)\n",
        "\n",
        "B. array.add(element)\n",
        "\n",
        "C. np.insert(array, element)\n",
        "\n",
        "D. array.insert(element)\n"
      ],
      "metadata": {
        "id": "question005"
      }
    },
    {
      "cell_type": "code",
      "source": [
        "Answer005 = \"\"  # @param {\"type\":\"string\"}"
      ],
      "metadata": {
        "cellView": "form",
        "id": "answer005"
      },
      "execution_count": null,
      "outputs": []
    },
    {
      "cell_type": "markdown",
      "source": [
        "6. Which function is used to create an array with 10 equally spaced values between 1 and 5?\n",
        "\n",
        "A. np.linspace(1, 5, 10)\n",
        "\n",
        "B. np.arange(1, 5, 10)\n",
        "\n",
        "C. np.zeros(10)\n",
        "\n",
        "D. np.linspace(1, 5)\n"
      ],
      "metadata": {
        "id": "question006"
      }
    },
    {
      "cell_type": "code",
      "source": [
        "Answer006 = \"\"  # @param {\"type\":\"string\"}"
      ],
      "metadata": {
        "cellView": "form",
        "id": "answer006"
      },
      "execution_count": null,
      "outputs": []
    },
    {
      "cell_type": "markdown",
      "source": [
        "7. What does the np.empty((2, 3)) function do?\n",
        "\n",
        "A. Creates an empty list of shape (2, 3).\n",
        "\n",
        "B. Creates an uninitialized array of shape (2, 3).\n",
        "\n",
        "C. Creates a null array of size (2, 3).\n",
        "\n",
        "D. Fills an array of shape (2, 3) with empty strings.\n"
      ],
      "metadata": {
        "id": "question007"
      }
    },
    {
      "cell_type": "code",
      "source": [
        "Answer007 = \"\"  # @param {\"type\":\"string\"}"
      ],
      "metadata": {
        "cellView": "form",
        "id": "answer007"
      },
      "execution_count": null,
      "outputs": []
    },
    {
      "cell_type": "markdown",
      "source": [
        "8. How do you access the element at row 2, column 3 of a 2D NumPy array named arr?\n",
        "\n",
        "A. arr[2][3]\n",
        "\n",
        "B. arr[1, 2]\n",
        "\n",
        "C. arr[2, 3]\n",
        "\n",
        "D. arr[3, 2]\n"
      ],
      "metadata": {
        "id": "question008"
      }
    },
    {
      "cell_type": "code",
      "source": [
        "Answer008 = \"\"  # @param {\"type\":\"string\"}"
      ],
      "metadata": {
        "cellView": "form",
        "id": "answer008"
      },
      "execution_count": null,
      "outputs": []
    },
    {
      "cell_type": "markdown",
      "source": [
        "9. How can you remove all elements greater than 10 from a NumPy array arr?\n",
        "\n",
        "A. arr = arr[arr > 10]\n",
        "\n",
        "B. arr = arr[arr <= 10]\n",
        "\n",
        "C. np.filter(arr > 10)\n",
        "\n",
        "D. np.delete(arr, arr > 10)\n"
      ],
      "metadata": {
        "id": "question009"
      }
    },
    {
      "cell_type": "code",
      "source": [
        "Answer009 = \"\"  # @param {\"type\":\"string\"}"
      ],
      "metadata": {
        "cellView": "form",
        "id": "answer009"
      },
      "execution_count": null,
      "outputs": []
    },
    {
      "cell_type": "markdown",
      "source": [
        "10. What is the purpose of np.sort()?\n",
        "\n",
        "A. Adds elements to an array.\n",
        "\n",
        "B. Sorts an array in ascending order.\n",
        "\n",
        "C. Removes duplicates from an array.\n",
        "\n",
        "D. Rearranges an array randomly.\n"
      ],
      "metadata": {
        "id": "question010"
      }
    },
    {
      "cell_type": "code",
      "source": [
        "Answer010 = \"\"  # @param {\"type\":\"string\"}"
      ],
      "metadata": {
        "cellView": "form",
        "id": "answer010"
      },
      "execution_count": null,
      "outputs": []
    },
    {
      "cell_type": "markdown",
      "source": [
        "11. What does arr.T do to a 2D NumPy array arr?\n",
        "\n",
        "A. Rotates the array by 90 degrees.\n",
        "\n",
        "B. Transposes the array.\n",
        "\n",
        "C. Flattens the array.\n",
        "\n",
        "D. Inverts the array.\n"
      ],
      "metadata": {
        "id": "question011"
      }
    },
    {
      "cell_type": "code",
      "source": [
        "Answer011 = \"\"  # @param {\"type\":\"string\"}"
      ],
      "metadata": {
        "cellView": "form",
        "id": "answer011"
      },
      "execution_count": null,
      "outputs": []
    },
    {
      "cell_type": "markdown",
      "source": [
        "12. Which of these is NOT a valid way to create a NumPy array?\n",
        "\n",
        "A. np.array([1, 2, 3])\n",
        "\n",
        "B. np.zeros(5)\n",
        "\n",
        "C. np.ones(3)\n",
        "\n",
        "D. np.list([1, 2, 3])\n"
      ],
      "metadata": {
        "id": "question012"
      }
    },
    {
      "cell_type": "code",
      "source": [
        "Answer012 = \"\"  # @param {\"type\":\"string\"}"
      ],
      "metadata": {
        "cellView": "form",
        "id": "answer012"
      },
      "execution_count": null,
      "outputs": []
    },
    {
      "cell_type": "markdown",
      "source": [
        "13. What is the output of np.sum(np.array([1, 2, 3]))?\n",
        "\n",
        "A. [1, 2, 3]\n",
        "\n",
        "B. 6\n",
        "\n",
        "C. 3\n",
        "\n",
        "D. None\n"
      ],
      "metadata": {
        "id": "question013"
      }
    },
    {
      "cell_type": "code",
      "source": [
        "Answer013 = \"\"  # @param {\"type\":\"string\"}"
      ],
      "metadata": {
        "cellView": "form",
        "id": "answer013"
      },
      "execution_count": null,
      "outputs": []
    },
    {
      "cell_type": "markdown",
      "source": [
        "14. What does the np.unique() function do?\n",
        "\n",
        "A. Removes duplicate elements from an array.\n",
        "\n",
        "B. Finds unique indices in an array.\n",
        "\n",
        "C. Sorts an array.\n",
        "\n",
        "D. Finds elements that are unique in another array.\n"
      ],
      "metadata": {
        "id": "question014"
      }
    },
    {
      "cell_type": "code",
      "source": [
        "Answer014 = \"\"  # @param {\"type\":\"string\"}"
      ],
      "metadata": {
        "cellView": "form",
        "id": "answer014"
      },
      "execution_count": null,
      "outputs": []
    },
    {
      "cell_type": "markdown",
      "source": [
        "15. How can you compute the square root of all elements in an array?\n",
        "\n",
        "A. np.sqrt(arr)\n",
        "\n",
        "B. np.square(arr)\n",
        "\n",
        "C. arr.sqrt()\n",
        "\n",
        "D. arr**0.5\n"
      ],
      "metadata": {
        "id": "question015"
      }
    },
    {
      "cell_type": "code",
      "source": [
        "Answer015 = \"\"  # @param {\"type\":\"string\"}"
      ],
      "metadata": {
        "cellView": "form",
        "id": "answer015"
      },
      "execution_count": null,
      "outputs": []
    },
    {
      "cell_type": "markdown",
      "source": [
        "16. How do you find the maximum value of a NumPy array?\n",
        "\n",
        "A. np.max(arr)\n",
        "\n",
        "B. np.maximum(arr)\n",
        "\n",
        "C. arr.max()\n",
        "\n",
        "D. Both A and C\n"
      ],
      "metadata": {
        "id": "question016"
      }
    },
    {
      "cell_type": "code",
      "source": [
        "Answer016 = \"\"  # @param {\"type\":\"string\"}"
      ],
      "metadata": {
        "cellView": "form",
        "id": "answer016"
      },
      "execution_count": null,
      "outputs": []
    },
    {
      "cell_type": "markdown",
      "source": [
        "17. Which function creates an identity matrix in NumPy?\n",
        "\n",
        "A. np.eye()\n",
        "\n",
        "B. np.identity()\n",
        "\n",
        "C. np.ones()\n",
        "\n",
        "D. Both A and B\n"
      ],
      "metadata": {
        "id": "question017"
      }
    },
    {
      "cell_type": "code",
      "source": [
        "Answer017 = \"\"  # @param {\"type\":\"string\"}"
      ],
      "metadata": {
        "cellView": "form",
        "id": "answer017"
      },
      "execution_count": null,
      "outputs": []
    },
    {
      "cell_type": "markdown",
      "source": [
        "18. How can you reshape a 1D array of size 6 into a 2D array with 2 rows and 3 columns?\n",
        "\n",
        "A. arr.reshape(2, 3)\n",
        "\n",
        "B. np.reshape(arr, (3, 2))\n",
        "\n",
        "C. arr.shape((2, 3))\n",
        "\n",
        "D. Both A and B\n"
      ],
      "metadata": {
        "id": "question018"
      }
    },
    {
      "cell_type": "code",
      "source": [
        "Answer018 = \"\"  # @param {\"type\":\"string\"}"
      ],
      "metadata": {
        "cellView": "form",
        "id": "answer018"
      },
      "execution_count": null,
      "outputs": []
    },
    {
      "cell_type": "markdown",
      "source": [
        "19. What does the np.concatenate() function do?\n",
        "\n",
        "A. Combines multiple arrays into one.\n",
        "\n",
        "B. Appends elements to an array.\n",
        "\n",
        "C. Splits an array into smaller arrays.\n",
        "\n",
        "D. Creates a multidimensional array.\n"
      ],
      "metadata": {
        "id": "question019"
      }
    },
    {
      "cell_type": "code",
      "source": [
        "Answer019 = \"\"  # @param {\"type\":\"string\"}"
      ],
      "metadata": {
        "cellView": "form",
        "id": "answer019"
      },
      "execution_count": null,
      "outputs": []
    },
    {
      "cell_type": "markdown",
      "source": [
        "20. Which function is used to calculate the mean of a NumPy array?\n",
        "\n",
        "A. np.mean()\n",
        "\n",
        "B. np.median()\n",
        "\n",
        "C. np.average()\n",
        "\n",
        "D. np.sum()\n"
      ],
      "metadata": {
        "id": "question020"
      }
    },
    {
      "cell_type": "code",
      "source": [
        "Answer020 = \"\"  # @param {\"type\":\"string\"}"
      ],
      "metadata": {
        "cellView": "form",
        "id": "answer020"
      },
      "execution_count": null,
      "outputs": []
    },
    {
      "cell_type": "markdown",
      "source": [
        "Export the results to csv file for grading."
      ],
      "metadata": {
        "id": "A5ILt14_DGoq"
      }
    },
    {
      "cell_type": "code",
      "source": [
        "# @title\n",
        "import pandas as pd\n",
        "\n",
        "# Define the range of answers to be processed\n",
        "n = 20  # Replace with the desired number of Answer variables\n",
        "\n",
        "# Initialize variables dynamically\n",
        "data = {'AnswerID': [], 'Answer': []}\n",
        "\n",
        "for i in range(1, n + 1):\n",
        "    var_name = f\"Answer{i:03}\"  # Generate variable names like Answer001, Answer002, etc.\n",
        "    # Check if the variable exists in globals, else assign a default value\n",
        "    if var_name not in globals():\n",
        "        globals()[var_name] = \"N\"  # Default value if variable doesn't exist\n",
        "    # Add the variable to the data dictionary\n",
        "    data['AnswerID'].append(var_name)\n",
        "    data['Answer'].append(globals()[var_name])\n",
        "\n",
        "# Create a DataFrame\n",
        "df = pd.DataFrame(data)\n",
        "\n",
        "# Save the DataFrame as a CSV file\n",
        "file_path = 'answers.csv'\n",
        "df.to_csv(file_path, index=False)\n",
        "\n",
        "# Provide a download link for the CSV file\n",
        "from google.colab import files\n",
        "files.download(file_path)"
      ],
      "metadata": {
        "id": "MANS4DrjLCDR",
        "cellView": "form"
      },
      "execution_count": null,
      "outputs": []
    }
  ]
}